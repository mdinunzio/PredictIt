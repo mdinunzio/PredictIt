{
 "cells": [
  {
   "cell_type": "code",
   "execution_count": 1,
   "metadata": {},
   "outputs": [],
   "source": [
    "import pathconfig\n",
    "import matplotlib.pyplot as plt\n",
    "import dbtools as dbt\n",
    "import datetime\n",
    "import seaborn as sns\n",
    "\n",
    "sns.set()\n",
    "%matplotlib inline\n",
    "\n",
    "\n",
    "today = datetime.date.today()"
   ]
  },
  {
   "cell_type": "code",
   "execution_count": 2,
   "metadata": {},
   "outputs": [
    {
     "data": {
      "text/html": [
       "<div>\n",
       "<style scoped>\n",
       "    .dataframe tbody tr th:only-of-type {\n",
       "        vertical-align: middle;\n",
       "    }\n",
       "\n",
       "    .dataframe tbody tr th {\n",
       "        vertical-align: top;\n",
       "    }\n",
       "\n",
       "    .dataframe thead th {\n",
       "        text-align: right;\n",
       "    }\n",
       "</style>\n",
       "<table border=\"1\" class=\"dataframe\">\n",
       "  <thead>\n",
       "    <tr style=\"text-align: right;\">\n",
       "      <th></th>\n",
       "      <th>update_ts</th>\n",
       "      <th>user</th>\n",
       "      <th>tweets</th>\n",
       "      <th>prevt</th>\n",
       "      <th>date</th>\n",
       "      <th>wd</th>\n",
       "    </tr>\n",
       "  </thead>\n",
       "  <tbody>\n",
       "    <tr>\n",
       "      <th>950</th>\n",
       "      <td>2020-02-16 19:46:09.923552</td>\n",
       "      <td>realDonaldTrump</td>\n",
       "      <td>682</td>\n",
       "      <td>49057.0</td>\n",
       "      <td>2020-02-16</td>\n",
       "      <td>Sun</td>\n",
       "    </tr>\n",
       "    <tr>\n",
       "      <th>951</th>\n",
       "      <td>2020-02-16 20:57:27.355706</td>\n",
       "      <td>realDonaldTrump</td>\n",
       "      <td>683</td>\n",
       "      <td>49056.0</td>\n",
       "      <td>2020-02-16</td>\n",
       "      <td>Sun</td>\n",
       "    </tr>\n",
       "    <tr>\n",
       "      <th>952</th>\n",
       "      <td>2020-02-16 20:58:27.647764</td>\n",
       "      <td>realDonaldTrump</td>\n",
       "      <td>682</td>\n",
       "      <td>49057.0</td>\n",
       "      <td>2020-02-16</td>\n",
       "      <td>Sun</td>\n",
       "    </tr>\n",
       "    <tr>\n",
       "      <th>953</th>\n",
       "      <td>2020-02-16 21:46:53.577608</td>\n",
       "      <td>realDonaldTrump</td>\n",
       "      <td>683</td>\n",
       "      <td>49056.0</td>\n",
       "      <td>2020-02-16</td>\n",
       "      <td>Sun</td>\n",
       "    </tr>\n",
       "    <tr>\n",
       "      <th>954</th>\n",
       "      <td>2020-02-16 21:47:55.773790</td>\n",
       "      <td>realDonaldTrump</td>\n",
       "      <td>682</td>\n",
       "      <td>49057.0</td>\n",
       "      <td>2020-02-16</td>\n",
       "      <td>Sun</td>\n",
       "    </tr>\n",
       "  </tbody>\n",
       "</table>\n",
       "</div>"
      ],
      "text/plain": [
       "                     update_ts             user  tweets    prevt        date  \\\n",
       "950 2020-02-16 19:46:09.923552  realDonaldTrump     682  49057.0  2020-02-16   \n",
       "951 2020-02-16 20:57:27.355706  realDonaldTrump     683  49056.0  2020-02-16   \n",
       "952 2020-02-16 20:58:27.647764  realDonaldTrump     682  49057.0  2020-02-16   \n",
       "953 2020-02-16 21:46:53.577608  realDonaldTrump     683  49056.0  2020-02-16   \n",
       "954 2020-02-16 21:47:55.773790  realDonaldTrump     682  49057.0  2020-02-16   \n",
       "\n",
       "      wd  \n",
       "950  Sun  \n",
       "951  Sun  \n",
       "952  Sun  \n",
       "953  Sun  \n",
       "954  Sun  "
      ]
     },
     "execution_count": 2,
     "metadata": {},
     "output_type": "execute_result"
    }
   ],
   "source": [
    "rdt_q  = \"\"\"\n",
    "SELECT * FROM tweetcounts\n",
    "WHERE \"user\" = 'realDonaldTrump'\n",
    "\"\"\"\n",
    "\n",
    "tweets = dbt.select(rdt_q, con=dbt.PI_PROD)\n",
    "tweets['prevt'] = tweets['tweets'].shift(1)\n",
    "tweets = tweets[tweets['tweets']!=tweets['prevt']]\n",
    "tweets['tweets'] -= tweets['tweets'].min()\n",
    "tweets['tweets'] += 1\n",
    "tweets = tweets.reset_index(drop=True)\n",
    "tweets['date'] = tweets['update_ts'].map(\n",
    "    lambda x: x.to_pydatetime().date())\n",
    "tweets['wd'] = tweets['date'].map(lambda x: '{:%a}'.format(x))\n",
    "tweets = tweets[tweets['date']!=today]\n",
    "tweets.tail()"
   ]
  },
  {
   "cell_type": "code",
   "execution_count": 3,
   "metadata": {},
   "outputs": [
    {
     "name": "stdout",
     "output_type": "stream",
     "text": [
      "Tweets: 682\n",
      "Days: 20\n",
      "Tweet Rate: 34.1\n"
     ]
    }
   ],
   "source": [
    "tweet_count = tweets['tweets'].max() - tweets['tweets'].min()\n",
    "day_count = (tweets['date'].max() - tweets['date'].min()).days\n",
    "tpd = tweet_count / day_count\n",
    "print(f'Tweets: {tweet_count}')\n",
    "print(f'Days: {day_count}')\n",
    "print(f'Tweet Rate: {tpd:.1f}')"
   ]
  },
  {
   "cell_type": "code",
   "execution_count": 4,
   "metadata": {},
   "outputs": [
    {
     "name": "stderr",
     "output_type": "stream",
     "text": [
      "C:\\Anaconda\\lib\\site-packages\\pandas\\plotting\\_matplotlib\\converter.py:103: FutureWarning: Using an implicitly registered datetime converter for a matplotlib plotting method. The converter was registered by pandas on import. Future versions of pandas will require you to explicitly register matplotlib converters.\n",
      "\n",
      "To register the converters:\n",
      "\t>>> from pandas.plotting import register_matplotlib_converters\n",
      "\t>>> register_matplotlib_converters()\n",
      "  warnings.warn(msg, FutureWarning)\n"
     ]
    },
    {
     "data": {
      "text/plain": [
       "(array([737453., 737456., 737460., 737464., 737468., 737472.]),\n",
       " <a list of 6 Text xticklabel objects>)"
      ]
     },
     "execution_count": 4,
     "metadata": {},
     "output_type": "execute_result"
    },
    {
     "data": {
      "image/png": "[encoded data removed]",
      "text/plain": [
       "<Figure size 432x288 with 1 Axes>"
      ]
     },
     "metadata": {
      "needs_background": "light"
     },
     "output_type": "display_data"
    }
   ],
   "source": [
    "plt.figure()\n",
    "plt.plot(tweets['update_ts'], tweets['tweets'])\n",
    "plt.title('Total Tweets vs. Timestamp')\n",
    "plt.xlabel('Timestamp')\n",
    "plt.ylabel('Tweets')\n",
    "plt.xticks(rotation=90)"
   ]
  },
  {
   "cell_type": "code",
   "execution_count": 5,
   "metadata": {},
   "outputs": [
    {
     "data": {
      "text/html": [
       "<div>\n",
       "<style scoped>\n",
       "    .dataframe tbody tr th:only-of-type {\n",
       "        vertical-align: middle;\n",
       "    }\n",
       "\n",
       "    .dataframe tbody tr th {\n",
       "        vertical-align: top;\n",
       "    }\n",
       "\n",
       "    .dataframe thead th {\n",
       "        text-align: right;\n",
       "    }\n",
       "</style>\n",
       "<table border=\"1\" class=\"dataframe\">\n",
       "  <thead>\n",
       "    <tr style=\"text-align: right;\">\n",
       "      <th></th>\n",
       "      <th>date</th>\n",
       "      <th>tweets</th>\n",
       "      <th>wd</th>\n",
       "      <th>chg</th>\n",
       "    </tr>\n",
       "  </thead>\n",
       "  <tbody>\n",
       "    <tr>\n",
       "      <th>16</th>\n",
       "      <td>2020-02-12</td>\n",
       "      <td>605</td>\n",
       "      <td>Wed</td>\n",
       "      <td>17.0</td>\n",
       "    </tr>\n",
       "    <tr>\n",
       "      <th>17</th>\n",
       "      <td>2020-02-13</td>\n",
       "      <td>616</td>\n",
       "      <td>Thu</td>\n",
       "      <td>11.0</td>\n",
       "    </tr>\n",
       "    <tr>\n",
       "      <th>18</th>\n",
       "      <td>2020-02-14</td>\n",
       "      <td>635</td>\n",
       "      <td>Fri</td>\n",
       "      <td>19.0</td>\n",
       "    </tr>\n",
       "    <tr>\n",
       "      <th>19</th>\n",
       "      <td>2020-02-15</td>\n",
       "      <td>680</td>\n",
       "      <td>Sat</td>\n",
       "      <td>45.0</td>\n",
       "    </tr>\n",
       "    <tr>\n",
       "      <th>20</th>\n",
       "      <td>2020-02-16</td>\n",
       "      <td>682</td>\n",
       "      <td>Sun</td>\n",
       "      <td>2.0</td>\n",
       "    </tr>\n",
       "  </tbody>\n",
       "</table>\n",
       "</div>"
      ],
      "text/plain": [
       "          date  tweets   wd   chg\n",
       "16  2020-02-12     605  Wed  17.0\n",
       "17  2020-02-13     616  Thu  11.0\n",
       "18  2020-02-14     635  Fri  19.0\n",
       "19  2020-02-15     680  Sat  45.0\n",
       "20  2020-02-16     682  Sun   2.0"
      ]
     },
     "execution_count": 5,
     "metadata": {},
     "output_type": "execute_result"
    }
   ],
   "source": [
    "date_group = tweets.groupby('date')\n",
    "date_stats = date_group[['tweets', 'wd']].nth(-1)\n",
    "date_stats = date_stats.reset_index()\n",
    "date_stats['chg'] = date_stats['tweets'] - date_stats['tweets'].shift(1)\n",
    "date_stats.tail()"
   ]
  },
  {
   "cell_type": "code",
   "execution_count": 6,
   "metadata": {},
   "outputs": [
    {
     "data": {
      "text/plain": [
       "(array([737453., 737456., 737460., 737464., 737468., 737472.]),\n",
       " <a list of 6 Text xticklabel objects>)"
      ]
     },
     "execution_count": 6,
     "metadata": {},
     "output_type": "execute_result"
    },
    {
     "data": {
      "image/png": "[encoded data removed]",
      "text/plain": [
       "<Figure size 432x288 with 1 Axes>"
      ]
     },
     "metadata": {
      "needs_background": "light"
     },
     "output_type": "display_data"
    }
   ],
   "source": [
    "plt.figure()\n",
    "plt.plot(date_stats['date'], date_stats['tweets'], 'o')\n",
    "plt.title('Total Tweets vs. Date')\n",
    "plt.xlabel('Date')\n",
    "plt.ylabel('Tweets')\n",
    "plt.xticks(rotation=90)"
   ]
  },
  {
   "cell_type": "code",
   "execution_count": 7,
   "metadata": {},
   "outputs": [
    {
     "data": {
      "image/png": "[encoded data removed]",
      "text/plain": [
       "<Figure size 432x288 with 1 Axes>"
      ]
     },
     "metadata": {
      "needs_background": "light"
     },
     "output_type": "display_data"
    }
   ],
   "source": [
    "plt.figure()\n",
    "tick_labels = ['{:%a %d}'.format(x)\n",
    "               for x in date_stats['date'].tolist()]\n",
    "plt.bar(date_stats['date'].index,\n",
    "        date_stats['chg'],\n",
    "        tick_label=tick_labels)\n",
    "plt.xticks(rotation=90)\n",
    "for i,r in date_stats.iterrows():\n",
    "    plt.annotate('{:,.0f}'.format(r['chg']),\n",
    "                 (i - 0.25, r['chg'] + 1))\n",
    "plt.title('Tweet Change Vs. Date')\n",
    "plt.ylabel('Tweet Change')\n",
    "plt.tight_layout()"
   ]
  },
  {
   "cell_type": "code",
   "execution_count": 8,
   "metadata": {},
   "outputs": [
    {
     "data": {
      "text/html": [
       "<div>\n",
       "<style scoped>\n",
       "    .dataframe tbody tr th:only-of-type {\n",
       "        vertical-align: middle;\n",
       "    }\n",
       "\n",
       "    .dataframe tbody tr th {\n",
       "        vertical-align: top;\n",
       "    }\n",
       "\n",
       "    .dataframe thead th {\n",
       "        text-align: right;\n",
       "    }\n",
       "</style>\n",
       "<table border=\"1\" class=\"dataframe\">\n",
       "  <thead>\n",
       "    <tr style=\"text-align: right;\">\n",
       "      <th></th>\n",
       "      <th>chgMean</th>\n",
       "      <th>chgStd</th>\n",
       "      <th>chgCount</th>\n",
       "    </tr>\n",
       "    <tr>\n",
       "      <th>wd</th>\n",
       "      <th></th>\n",
       "      <th></th>\n",
       "      <th></th>\n",
       "    </tr>\n",
       "  </thead>\n",
       "  <tbody>\n",
       "    <tr>\n",
       "      <th>Sun</th>\n",
       "      <td>25.666667</td>\n",
       "      <td>26.312228</td>\n",
       "      <td>3</td>\n",
       "    </tr>\n",
       "    <tr>\n",
       "      <th>Mon</th>\n",
       "      <td>29.000000</td>\n",
       "      <td>19.798990</td>\n",
       "      <td>2</td>\n",
       "    </tr>\n",
       "    <tr>\n",
       "      <th>Tue</th>\n",
       "      <td>37.000000</td>\n",
       "      <td>8.544004</td>\n",
       "      <td>3</td>\n",
       "    </tr>\n",
       "    <tr>\n",
       "      <th>Wed</th>\n",
       "      <td>26.000000</td>\n",
       "      <td>8.544004</td>\n",
       "      <td>3</td>\n",
       "    </tr>\n",
       "    <tr>\n",
       "      <th>Thu</th>\n",
       "      <td>9.000000</td>\n",
       "      <td>8.185353</td>\n",
       "      <td>3</td>\n",
       "    </tr>\n",
       "    <tr>\n",
       "      <th>Fri</th>\n",
       "      <td>45.333333</td>\n",
       "      <td>22.810816</td>\n",
       "      <td>3</td>\n",
       "    </tr>\n",
       "    <tr>\n",
       "      <th>Sat</th>\n",
       "      <td>56.666667</td>\n",
       "      <td>13.868429</td>\n",
       "      <td>3</td>\n",
       "    </tr>\n",
       "  </tbody>\n",
       "</table>\n",
       "</div>"
      ],
      "text/plain": [
       "       chgMean     chgStd  chgCount\n",
       "wd                                 \n",
       "Sun  25.666667  26.312228         3\n",
       "Mon  29.000000  19.798990         2\n",
       "Tue  37.000000   8.544004         3\n",
       "Wed  26.000000   8.544004         3\n",
       "Thu   9.000000   8.185353         3\n",
       "Fri  45.333333  22.810816         3\n",
       "Sat  56.666667  13.868429         3"
      ]
     },
     "execution_count": 8,
     "metadata": {},
     "output_type": "execute_result"
    }
   ],
   "source": [
    "wd_temp = date_stats.copy()\n",
    "wd_temp['i'] = wd_temp['date'].map(lambda x: '{:%w}'.format(x))\n",
    "wd_group = wd_temp.groupby('wd')\n",
    "wd_stats = wd_group.agg({'chg': ['mean', 'std', 'count'],\n",
    "                         'i': ['max']})\n",
    "wd_stats.columns = [x[0] + x[1].title()\n",
    "                    for x in wd_stats.columns]\n",
    "wd_stats = wd_stats.rename(columns={'iMax': 'dayIdx'})\n",
    "wd_stats = wd_stats.sort_values('dayIdx')\n",
    "wd_stats = wd_stats.drop('dayIdx', axis=1)\n",
    "wd_stats"
   ]
  },
  {
   "cell_type": "code",
   "execution_count": 14,
   "metadata": {},
   "outputs": [
    {
     "data": {
      "image/png": "[encoded data removed]",
      "text/plain": [
       "<Figure size 432x288 with 1 Axes>"
      ]
     },
     "metadata": {
      "needs_background": "light"
     },
     "output_type": "display_data"
    }
   ],
   "source": [
    "plt.bar(wd_stats.index,\n",
    "        wd_stats['chgMean'])\n",
    "plt.title('Average Tweets By Day')\n",
    "for i,r in wd_stats.iterrows():\n",
    "    plt.annotate('{:,.0f}'.format(r['chgMean']),\n",
    "                 (i, r['chgMean'] + 1))\n",
    "plt.tight_layout()"
   ]
  }
 ],
 "metadata": {
  "kernelspec": {
   "display_name": "Python 3",
   "language": "python",
   "name": "python3"
  },
  "language_info": {
   "codemirror_mode": {
    "name": "ipython",
    "version": 3
   },
   "file_extension": ".py",
   "mimetype": "text/x-python",
   "name": "python",
   "nbconvert_exporter": "python",
   "pygments_lexer": "ipython3",
   "version": "3.7.6"
  }
 },
 "nbformat": 4,
 "nbformat_minor": 2
}
