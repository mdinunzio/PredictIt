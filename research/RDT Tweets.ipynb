{
 "cells": [
  {
   "cell_type": "code",
   "execution_count": 8,
   "metadata": {},
   "outputs": [],
   "source": [
    "import jupyterconfig\n",
    "import matplotlib.pyplot as plt\n",
    "import dbtools as dbt\n",
    "import datetime\n",
    "import seaborn as sns\n",
    "\n",
    "sns.set()\n",
    "%matplotlib inline"
   ]
  },
  {
   "cell_type": "code",
   "execution_count": 109,
   "metadata": {},
   "outputs": [
    {
     "data": {
      "text/html": [
       "<div>\n",
       "<style scoped>\n",
       "    .dataframe tbody tr th:only-of-type {\n",
       "        vertical-align: middle;\n",
       "    }\n",
       "\n",
       "    .dataframe tbody tr th {\n",
       "        vertical-align: top;\n",
       "    }\n",
       "\n",
       "    .dataframe thead th {\n",
       "        text-align: right;\n",
       "    }\n",
       "</style>\n",
       "<table border=\"1\" class=\"dataframe\">\n",
       "  <thead>\n",
       "    <tr style=\"text-align: right;\">\n",
       "      <th></th>\n",
       "      <th>update_ts</th>\n",
       "      <th>user</th>\n",
       "      <th>tweets</th>\n",
       "      <th>prevt</th>\n",
       "      <th>date</th>\n",
       "      <th>wd</th>\n",
       "    </tr>\n",
       "  </thead>\n",
       "  <tbody>\n",
       "    <tr>\n",
       "      <th>777</th>\n",
       "      <td>2020-02-12 18:25:16.732173</td>\n",
       "      <td>realDonaldTrump</td>\n",
       "      <td>605</td>\n",
       "      <td>48980.0</td>\n",
       "      <td>2020-02-12</td>\n",
       "      <td>Wed</td>\n",
       "    </tr>\n",
       "    <tr>\n",
       "      <th>778</th>\n",
       "      <td>2020-02-12 20:24:51.498994</td>\n",
       "      <td>realDonaldTrump</td>\n",
       "      <td>606</td>\n",
       "      <td>48979.0</td>\n",
       "      <td>2020-02-12</td>\n",
       "      <td>Wed</td>\n",
       "    </tr>\n",
       "    <tr>\n",
       "      <th>779</th>\n",
       "      <td>2020-02-12 20:25:57.089653</td>\n",
       "      <td>realDonaldTrump</td>\n",
       "      <td>605</td>\n",
       "      <td>48980.0</td>\n",
       "      <td>2020-02-12</td>\n",
       "      <td>Wed</td>\n",
       "    </tr>\n",
       "    <tr>\n",
       "      <th>780</th>\n",
       "      <td>2020-02-12 20:58:51.794374</td>\n",
       "      <td>realDonaldTrump</td>\n",
       "      <td>606</td>\n",
       "      <td>48979.0</td>\n",
       "      <td>2020-02-12</td>\n",
       "      <td>Wed</td>\n",
       "    </tr>\n",
       "    <tr>\n",
       "      <th>781</th>\n",
       "      <td>2020-02-12 20:59:52.023116</td>\n",
       "      <td>realDonaldTrump</td>\n",
       "      <td>605</td>\n",
       "      <td>48980.0</td>\n",
       "      <td>2020-02-12</td>\n",
       "      <td>Wed</td>\n",
       "    </tr>\n",
       "  </tbody>\n",
       "</table>\n",
       "</div>"
      ],
      "text/plain": [
       "                     update_ts             user  tweets    prevt        date  \\\n",
       "777 2020-02-12 18:25:16.732173  realDonaldTrump     605  48980.0  2020-02-12   \n",
       "778 2020-02-12 20:24:51.498994  realDonaldTrump     606  48979.0  2020-02-12   \n",
       "779 2020-02-12 20:25:57.089653  realDonaldTrump     605  48980.0  2020-02-12   \n",
       "780 2020-02-12 20:58:51.794374  realDonaldTrump     606  48979.0  2020-02-12   \n",
       "781 2020-02-12 20:59:52.023116  realDonaldTrump     605  48980.0  2020-02-12   \n",
       "\n",
       "      wd  \n",
       "777  Wed  \n",
       "778  Wed  \n",
       "779  Wed  \n",
       "780  Wed  \n",
       "781  Wed  "
      ]
     },
     "execution_count": 109,
     "metadata": {},
     "output_type": "execute_result"
    }
   ],
   "source": [
    "rdt_q  = \"\"\"\n",
    "SELECT * FROM tweetcounts\n",
    "WHERE \"user\" = 'realDonaldTrump'\n",
    "\"\"\"\n",
    "\n",
    "tweets = dbt.select(rdt_q, con=dbt.PI_PROD)\n",
    "tweets['prevt'] = tweets['tweets'].shift(1)\n",
    "tweets = tweets[tweets['tweets']!=tweets['prevt']]\n",
    "tweets['tweets'] -= tweets['tweets'].min()\n",
    "tweets['tweets'] += 1\n",
    "tweets = tweets.reset_index(drop=True)\n",
    "tweets['date'] = tweets['update_ts'].map(\n",
    "    lambda x: x.to_pydatetime().date())\n",
    "tweets['wd'] = tweets['date'].map(lambda x: '{:%a}'.format(x))\n",
    "tweets.tail()"
   ]
  },
  {
   "cell_type": "code",
   "execution_count": 110,
   "metadata": {},
   "outputs": [
    {
     "name": "stdout",
     "output_type": "stream",
     "text": [
      "Tweets: 605\n",
      "Days: 16\n",
      "Tweet Rate: 37.8\n"
     ]
    }
   ],
   "source": [
    "tweet_count = tweets['tweets'].max() - tweets['tweets'].min()\n",
    "day_count = (tweets['date'].max() - tweets['date'].min()).days\n",
    "tpd = tweet_count / days\n",
    "print(f'Tweets: {tweet_count}')\n",
    "print(f'Days: {day_count}')\n",
    "print(f'Tweet Rate: {tpd:.1f}')"
   ]
  },
  {
   "cell_type": "code",
   "execution_count": 111,
   "metadata": {},
   "outputs": [
    {
     "data": {
      "text/plain": [
       "(array([737453., 737455., 737456., 737458., 737460., 737462., 737464.,\n",
       "        737466., 737468.]), <a list of 9 Text xticklabel objects>)"
      ]
     },
     "execution_count": 111,
     "metadata": {},
     "output_type": "execute_result"
    },
    {
     "data": {
      "image/png": "[encoded data removed]",
      "text/plain": [
       "<Figure size 432x288 with 1 Axes>"
      ]
     },
     "metadata": {
      "needs_background": "light"
     },
     "output_type": "display_data"
    }
   ],
   "source": [
    "plt.figure()\n",
    "plt.plot(tweets['update_ts'], tweets['tweets'])\n",
    "plt.title('Total Tweets vs. Timestamp')\n",
    "plt.xlabel('Timestamp')\n",
    "plt.ylabel('Tweets')\n",
    "plt.xticks(rotation=90)"
   ]
  },
  {
   "cell_type": "code",
   "execution_count": 112,
   "metadata": {},
   "outputs": [
    {
     "data": {
      "text/html": [
       "<div>\n",
       "<style scoped>\n",
       "    .dataframe tbody tr th:only-of-type {\n",
       "        vertical-align: middle;\n",
       "    }\n",
       "\n",
       "    .dataframe tbody tr th {\n",
       "        vertical-align: top;\n",
       "    }\n",
       "\n",
       "    .dataframe thead th {\n",
       "        text-align: right;\n",
       "    }\n",
       "</style>\n",
       "<table border=\"1\" class=\"dataframe\">\n",
       "  <thead>\n",
       "    <tr style=\"text-align: right;\">\n",
       "      <th></th>\n",
       "      <th>date</th>\n",
       "      <th>tweets</th>\n",
       "      <th>wd</th>\n",
       "      <th>chg</th>\n",
       "    </tr>\n",
       "  </thead>\n",
       "  <tbody>\n",
       "    <tr>\n",
       "      <th>12</th>\n",
       "      <td>2020-02-08</td>\n",
       "      <td>473</td>\n",
       "      <td>Sat</td>\n",
       "      <td>72.0</td>\n",
       "    </tr>\n",
       "    <tr>\n",
       "      <th>13</th>\n",
       "      <td>2020-02-09</td>\n",
       "      <td>527</td>\n",
       "      <td>Sun</td>\n",
       "      <td>54.0</td>\n",
       "    </tr>\n",
       "    <tr>\n",
       "      <th>14</th>\n",
       "      <td>2020-02-10</td>\n",
       "      <td>542</td>\n",
       "      <td>Mon</td>\n",
       "      <td>15.0</td>\n",
       "    </tr>\n",
       "    <tr>\n",
       "      <th>15</th>\n",
       "      <td>2020-02-11</td>\n",
       "      <td>588</td>\n",
       "      <td>Tue</td>\n",
       "      <td>46.0</td>\n",
       "    </tr>\n",
       "    <tr>\n",
       "      <th>16</th>\n",
       "      <td>2020-02-12</td>\n",
       "      <td>605</td>\n",
       "      <td>Wed</td>\n",
       "      <td>17.0</td>\n",
       "    </tr>\n",
       "  </tbody>\n",
       "</table>\n",
       "</div>"
      ],
      "text/plain": [
       "          date  tweets   wd   chg\n",
       "12  2020-02-08     473  Sat  72.0\n",
       "13  2020-02-09     527  Sun  54.0\n",
       "14  2020-02-10     542  Mon  15.0\n",
       "15  2020-02-11     588  Tue  46.0\n",
       "16  2020-02-12     605  Wed  17.0"
      ]
     },
     "execution_count": 112,
     "metadata": {},
     "output_type": "execute_result"
    }
   ],
   "source": [
    "date_group = tweets.groupby('date')\n",
    "date_stats = date_group[['tweets', 'wd']].nth(-1)\n",
    "date_stats = date_stats.reset_index()\n",
    "date_stats['chg'] = date_stats['tweets'] - date_stats['tweets'].shift(1)\n",
    "date_stats.tail()"
   ]
  },
  {
   "cell_type": "code",
   "execution_count": 113,
   "metadata": {},
   "outputs": [
    {
     "data": {
      "text/plain": [
       "(array([737451., 737453., 737455., 737456., 737458., 737460., 737462.,\n",
       "        737464., 737466.]), <a list of 9 Text xticklabel objects>)"
      ]
     },
     "execution_count": 113,
     "metadata": {},
     "output_type": "execute_result"
    },
    {
     "data": {
      "image/png": "[encoded data removed]",
      "text/plain": [
       "<Figure size 432x288 with 1 Axes>"
      ]
     },
     "metadata": {
      "needs_background": "light"
     },
     "output_type": "display_data"
    }
   ],
   "source": [
    "plt.figure()\n",
    "plt.plot(date_stats['date'], date_stats['tweets'], 'o')\n",
    "plt.title('Total Tweets vs. Date')\n",
    "plt.xlabel('Date')\n",
    "plt.ylabel('Tweets')\n",
    "plt.xticks(rotation=90)"
   ]
  },
  {
   "cell_type": "code",
   "execution_count": 114,
   "metadata": {},
   "outputs": [
    {
     "data": {
      "image/png": "[encoded data removed]",
      "text/plain": [
       "<Figure size 432x288 with 1 Axes>"
      ]
     },
     "metadata": {
      "needs_background": "light"
     },
     "output_type": "display_data"
    }
   ],
   "source": [
    "plt.figure()\n",
    "tick_labels = ['{:%a %d}'.format(x)\n",
    "               for x in date_stats['date'].tolist()]\n",
    "plt.bar(date_stats['date'].index,\n",
    "        date_stats['chg'],\n",
    "        tick_label=tick_labels)\n",
    "plt.xticks(rotation=90)\n",
    "for i,r in date_stats.iterrows():\n",
    "    plt.annotate('{:,.0f}'.format(r['chg']),\n",
    "                 (i - 0.25, r['chg'] + 1))\n",
    "plt.title('Tweet Change Vs. Date')\n",
    "plt.ylabel('Tweet Change')\n",
    "plt.tight_layout()"
   ]
  },
  {
   "cell_type": "code",
   "execution_count": 135,
   "metadata": {},
   "outputs": [
    {
     "data": {
      "text/html": [
       "<div>\n",
       "<style scoped>\n",
       "    .dataframe tbody tr th:only-of-type {\n",
       "        vertical-align: middle;\n",
       "    }\n",
       "\n",
       "    .dataframe tbody tr th {\n",
       "        vertical-align: top;\n",
       "    }\n",
       "\n",
       "    .dataframe thead th {\n",
       "        text-align: right;\n",
       "    }\n",
       "</style>\n",
       "<table border=\"1\" class=\"dataframe\">\n",
       "  <thead>\n",
       "    <tr style=\"text-align: right;\">\n",
       "      <th></th>\n",
       "      <th>chgMean</th>\n",
       "      <th>chgStd</th>\n",
       "      <th>chgCount</th>\n",
       "    </tr>\n",
       "    <tr>\n",
       "      <th>wd</th>\n",
       "      <th></th>\n",
       "      <th></th>\n",
       "      <th></th>\n",
       "    </tr>\n",
       "  </thead>\n",
       "  <tbody>\n",
       "    <tr>\n",
       "      <th>Sun</th>\n",
       "      <td>37.5</td>\n",
       "      <td>23.334524</td>\n",
       "      <td>2</td>\n",
       "    </tr>\n",
       "    <tr>\n",
       "      <th>Mon</th>\n",
       "      <td>29.0</td>\n",
       "      <td>19.798990</td>\n",
       "      <td>2</td>\n",
       "    </tr>\n",
       "    <tr>\n",
       "      <th>Tue</th>\n",
       "      <td>37.0</td>\n",
       "      <td>8.544004</td>\n",
       "      <td>3</td>\n",
       "    </tr>\n",
       "    <tr>\n",
       "      <th>Wed</th>\n",
       "      <td>26.0</td>\n",
       "      <td>8.544004</td>\n",
       "      <td>3</td>\n",
       "    </tr>\n",
       "    <tr>\n",
       "      <th>Thu</th>\n",
       "      <td>8.0</td>\n",
       "      <td>11.313708</td>\n",
       "      <td>2</td>\n",
       "    </tr>\n",
       "    <tr>\n",
       "      <th>Fri</th>\n",
       "      <td>58.5</td>\n",
       "      <td>0.707107</td>\n",
       "      <td>2</td>\n",
       "    </tr>\n",
       "    <tr>\n",
       "      <th>Sat</th>\n",
       "      <td>62.5</td>\n",
       "      <td>13.435029</td>\n",
       "      <td>2</td>\n",
       "    </tr>\n",
       "  </tbody>\n",
       "</table>\n",
       "</div>"
      ],
      "text/plain": [
       "     chgMean     chgStd  chgCount\n",
       "wd                               \n",
       "Sun     37.5  23.334524         2\n",
       "Mon     29.0  19.798990         2\n",
       "Tue     37.0   8.544004         3\n",
       "Wed     26.0   8.544004         3\n",
       "Thu      8.0  11.313708         2\n",
       "Fri     58.5   0.707107         2\n",
       "Sat     62.5  13.435029         2"
      ]
     },
     "execution_count": 135,
     "metadata": {},
     "output_type": "execute_result"
    }
   ],
   "source": [
    "wd_temp = date_stats.copy()\n",
    "wd_temp['i'] = wd_temp['date'].map(lambda x: '{:%w}'.format(x))\n",
    "wd_group = wd_temp.groupby('wd')\n",
    "wd_stats = wd_group.agg({'chg': ['mean', 'std', 'count'],\n",
    "                         'i': ['max']})\n",
    "wd_stats.columns = [x[0] + x[1].title()\n",
    "                    for x in wd_stats.columns]\n",
    "wd_stats = wd_stats.rename(columns={'iMax': 'dayIdx'})\n",
    "wd_stats = wd_stats.sort_values('dayIdx')\n",
    "wd_stats = wd_stats.drop('dayIdx', axis=1)\n",
    "wd_stats"
   ]
  }
 ],
 "metadata": {
  "kernelspec": {
   "display_name": "Python 3",
   "language": "python",
   "name": "python3"
  },
  "language_info": {
   "codemirror_mode": {
    "name": "ipython",
    "version": 3
   },
   "file_extension": ".py",
   "mimetype": "text/x-python",
   "name": "python",
   "nbconvert_exporter": "python",
   "pygments_lexer": "ipython3",
   "version": "3.7.6"
  }
 },
 "nbformat": 4,
 "nbformat_minor": 2
}
