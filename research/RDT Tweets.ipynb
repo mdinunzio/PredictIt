{
 "cells": [
  {
   "cell_type": "code",
   "execution_count": 13,
   "metadata": {},
   "outputs": [],
   "source": [
    "import pathconfig\n",
    "import matplotlib.pyplot as plt\n",
    "import dbtools as dbt\n",
    "import datetime\n",
    "import seaborn as sns\n",
    "\n",
    "sns.set()\n",
    "%matplotlib inline\n",
    "\n",
    "\n",
    "today = datetime.date.today()"
   ]
  },
  {
   "cell_type": "code",
   "execution_count": 14,
   "metadata": {},
   "outputs": [
    {
     "data": {
      "text/html": [
       "<div>\n",
       "<style scoped>\n",
       "    .dataframe tbody tr th:only-of-type {\n",
       "        vertical-align: middle;\n",
       "    }\n",
       "\n",
       "    .dataframe tbody tr th {\n",
       "        vertical-align: top;\n",
       "    }\n",
       "\n",
       "    .dataframe thead th {\n",
       "        text-align: right;\n",
       "    }\n",
       "</style>\n",
       "<table border=\"1\" class=\"dataframe\">\n",
       "  <thead>\n",
       "    <tr style=\"text-align: right;\">\n",
       "      <th></th>\n",
       "      <th>update_ts</th>\n",
       "      <th>user</th>\n",
       "      <th>tweets</th>\n",
       "      <th>prevt</th>\n",
       "      <th>date</th>\n",
       "      <th>wd</th>\n",
       "    </tr>\n",
       "  </thead>\n",
       "  <tbody>\n",
       "    <tr>\n",
       "      <th>866</th>\n",
       "      <td>2020-02-14 19:06:14.485260</td>\n",
       "      <td>realDonaldTrump</td>\n",
       "      <td>635</td>\n",
       "      <td>49010.0</td>\n",
       "      <td>2020-02-14</td>\n",
       "      <td>Fri</td>\n",
       "    </tr>\n",
       "    <tr>\n",
       "      <th>867</th>\n",
       "      <td>2020-02-14 19:59:32.289670</td>\n",
       "      <td>realDonaldTrump</td>\n",
       "      <td>636</td>\n",
       "      <td>49009.0</td>\n",
       "      <td>2020-02-14</td>\n",
       "      <td>Fri</td>\n",
       "    </tr>\n",
       "    <tr>\n",
       "      <th>868</th>\n",
       "      <td>2020-02-14 20:00:32.613525</td>\n",
       "      <td>realDonaldTrump</td>\n",
       "      <td>635</td>\n",
       "      <td>49010.0</td>\n",
       "      <td>2020-02-14</td>\n",
       "      <td>Fri</td>\n",
       "    </tr>\n",
       "    <tr>\n",
       "      <th>869</th>\n",
       "      <td>2020-02-14 23:01:59.827232</td>\n",
       "      <td>realDonaldTrump</td>\n",
       "      <td>636</td>\n",
       "      <td>49009.0</td>\n",
       "      <td>2020-02-14</td>\n",
       "      <td>Fri</td>\n",
       "    </tr>\n",
       "    <tr>\n",
       "      <th>870</th>\n",
       "      <td>2020-02-14 23:03:00.172410</td>\n",
       "      <td>realDonaldTrump</td>\n",
       "      <td>635</td>\n",
       "      <td>49010.0</td>\n",
       "      <td>2020-02-14</td>\n",
       "      <td>Fri</td>\n",
       "    </tr>\n",
       "  </tbody>\n",
       "</table>\n",
       "</div>"
      ],
      "text/plain": [
       "                     update_ts             user  tweets    prevt        date  \\\n",
       "866 2020-02-14 19:06:14.485260  realDonaldTrump     635  49010.0  2020-02-14   \n",
       "867 2020-02-14 19:59:32.289670  realDonaldTrump     636  49009.0  2020-02-14   \n",
       "868 2020-02-14 20:00:32.613525  realDonaldTrump     635  49010.0  2020-02-14   \n",
       "869 2020-02-14 23:01:59.827232  realDonaldTrump     636  49009.0  2020-02-14   \n",
       "870 2020-02-14 23:03:00.172410  realDonaldTrump     635  49010.0  2020-02-14   \n",
       "\n",
       "      wd  \n",
       "866  Fri  \n",
       "867  Fri  \n",
       "868  Fri  \n",
       "869  Fri  \n",
       "870  Fri  "
      ]
     },
     "execution_count": 14,
     "metadata": {},
     "output_type": "execute_result"
    }
   ],
   "source": [
    "rdt_q  = \"\"\"\n",
    "SELECT * FROM tweetcounts\n",
    "WHERE \"user\" = 'realDonaldTrump'\n",
    "\"\"\"\n",
    "\n",
    "tweets = dbt.select(rdt_q, con=dbt.PI_PROD)\n",
    "tweets['prevt'] = tweets['tweets'].shift(1)\n",
    "tweets = tweets[tweets['tweets']!=tweets['prevt']]\n",
    "tweets['tweets'] -= tweets['tweets'].min()\n",
    "tweets['tweets'] += 1\n",
    "tweets = tweets.reset_index(drop=True)\n",
    "tweets['date'] = tweets['update_ts'].map(\n",
    "    lambda x: x.to_pydatetime().date())\n",
    "tweets['wd'] = tweets['date'].map(lambda x: '{:%a}'.format(x))\n",
    "tweets = tweets[tweets['date']!=today]\n",
    "tweets.tail()"
   ]
  },
  {
   "cell_type": "code",
   "execution_count": 15,
   "metadata": {},
   "outputs": [
    {
     "name": "stdout",
     "output_type": "stream",
     "text": [
      "Tweets: 635\n",
      "Days: 18\n",
      "Tweet Rate: 35.3\n"
     ]
    }
   ],
   "source": [
    "tweet_count = tweets['tweets'].max() - tweets['tweets'].min()\n",
    "day_count = (tweets['date'].max() - tweets['date'].min()).days\n",
    "tpd = tweet_count / day_count\n",
    "print(f'Tweets: {tweet_count}')\n",
    "print(f'Days: {day_count}')\n",
    "print(f'Tweet Rate: {tpd:.1f}')"
   ]
  },
  {
   "cell_type": "code",
   "execution_count": 16,
   "metadata": {},
   "outputs": [
    {
     "data": {
      "text/plain": [
       "(array([737453., 737455., 737456., 737458., 737460., 737462., 737464.,\n",
       "        737466., 737468., 737470.]), <a list of 10 Text xticklabel objects>)"
      ]
     },
     "execution_count": 16,
     "metadata": {},
     "output_type": "execute_result"
    },
    {
     "data": {
      "image/png": "[encoded data removed]",
      "text/plain": [
       "<Figure size 432x288 with 1 Axes>"
      ]
     },
     "metadata": {
      "needs_background": "light"
     },
     "output_type": "display_data"
    }
   ],
   "source": [
    "plt.figure()\n",
    "plt.plot(tweets['update_ts'], tweets['tweets'])\n",
    "plt.title('Total Tweets vs. Timestamp')\n",
    "plt.xlabel('Timestamp')\n",
    "plt.ylabel('Tweets')\n",
    "plt.xticks(rotation=90)"
   ]
  },
  {
   "cell_type": "code",
   "execution_count": 17,
   "metadata": {},
   "outputs": [
    {
     "data": {
      "text/html": [
       "<div>\n",
       "<style scoped>\n",
       "    .dataframe tbody tr th:only-of-type {\n",
       "        vertical-align: middle;\n",
       "    }\n",
       "\n",
       "    .dataframe tbody tr th {\n",
       "        vertical-align: top;\n",
       "    }\n",
       "\n",
       "    .dataframe thead th {\n",
       "        text-align: right;\n",
       "    }\n",
       "</style>\n",
       "<table border=\"1\" class=\"dataframe\">\n",
       "  <thead>\n",
       "    <tr style=\"text-align: right;\">\n",
       "      <th></th>\n",
       "      <th>date</th>\n",
       "      <th>tweets</th>\n",
       "      <th>wd</th>\n",
       "      <th>chg</th>\n",
       "    </tr>\n",
       "  </thead>\n",
       "  <tbody>\n",
       "    <tr>\n",
       "      <th>14</th>\n",
       "      <td>2020-02-10</td>\n",
       "      <td>542</td>\n",
       "      <td>Mon</td>\n",
       "      <td>15.0</td>\n",
       "    </tr>\n",
       "    <tr>\n",
       "      <th>15</th>\n",
       "      <td>2020-02-11</td>\n",
       "      <td>588</td>\n",
       "      <td>Tue</td>\n",
       "      <td>46.0</td>\n",
       "    </tr>\n",
       "    <tr>\n",
       "      <th>16</th>\n",
       "      <td>2020-02-12</td>\n",
       "      <td>605</td>\n",
       "      <td>Wed</td>\n",
       "      <td>17.0</td>\n",
       "    </tr>\n",
       "    <tr>\n",
       "      <th>17</th>\n",
       "      <td>2020-02-13</td>\n",
       "      <td>616</td>\n",
       "      <td>Thu</td>\n",
       "      <td>11.0</td>\n",
       "    </tr>\n",
       "    <tr>\n",
       "      <th>18</th>\n",
       "      <td>2020-02-14</td>\n",
       "      <td>635</td>\n",
       "      <td>Fri</td>\n",
       "      <td>19.0</td>\n",
       "    </tr>\n",
       "  </tbody>\n",
       "</table>\n",
       "</div>"
      ],
      "text/plain": [
       "          date  tweets   wd   chg\n",
       "14  2020-02-10     542  Mon  15.0\n",
       "15  2020-02-11     588  Tue  46.0\n",
       "16  2020-02-12     605  Wed  17.0\n",
       "17  2020-02-13     616  Thu  11.0\n",
       "18  2020-02-14     635  Fri  19.0"
      ]
     },
     "execution_count": 17,
     "metadata": {},
     "output_type": "execute_result"
    }
   ],
   "source": [
    "date_group = tweets.groupby('date')\n",
    "date_stats = date_group[['tweets', 'wd']].nth(-1)\n",
    "date_stats = date_stats.reset_index()\n",
    "date_stats['chg'] = date_stats['tweets'] - date_stats['tweets'].shift(1)\n",
    "date_stats.tail()"
   ]
  },
  {
   "cell_type": "code",
   "execution_count": 18,
   "metadata": {},
   "outputs": [
    {
     "data": {
      "text/plain": [
       "(array([737451., 737453., 737455., 737456., 737458., 737460., 737462.,\n",
       "        737464., 737466., 737468.]), <a list of 10 Text xticklabel objects>)"
      ]
     },
     "execution_count": 18,
     "metadata": {},
     "output_type": "execute_result"
    },
    {
     "data": {
      "image/png": "[encoded data removed]",
      "text/plain": [
       "<Figure size 432x288 with 1 Axes>"
      ]
     },
     "metadata": {
      "needs_background": "light"
     },
     "output_type": "display_data"
    }
   ],
   "source": [
    "plt.figure()\n",
    "plt.plot(date_stats['date'], date_stats['tweets'], 'o')\n",
    "plt.title('Total Tweets vs. Date')\n",
    "plt.xlabel('Date')\n",
    "plt.ylabel('Tweets')\n",
    "plt.xticks(rotation=90)"
   ]
  },
  {
   "cell_type": "code",
   "execution_count": 19,
   "metadata": {},
   "outputs": [
    {
     "data": {
      "image/png": "[encoded data removed]",
      "text/plain": [
       "<Figure size 432x288 with 1 Axes>"
      ]
     },
     "metadata": {
      "needs_background": "light"
     },
     "output_type": "display_data"
    }
   ],
   "source": [
    "plt.figure()\n",
    "tick_labels = ['{:%a %d}'.format(x)\n",
    "               for x in date_stats['date'].tolist()]\n",
    "plt.bar(date_stats['date'].index,\n",
    "        date_stats['chg'],\n",
    "        tick_label=tick_labels)\n",
    "plt.xticks(rotation=90)\n",
    "for i,r in date_stats.iterrows():\n",
    "    plt.annotate('{:,.0f}'.format(r['chg']),\n",
    "                 (i - 0.25, r['chg'] + 1))\n",
    "plt.title('Tweet Change Vs. Date')\n",
    "plt.ylabel('Tweet Change')\n",
    "plt.tight_layout()"
   ]
  },
  {
   "cell_type": "code",
   "execution_count": 20,
   "metadata": {},
   "outputs": [
    {
     "data": {
      "text/html": [
       "<div>\n",
       "<style scoped>\n",
       "    .dataframe tbody tr th:only-of-type {\n",
       "        vertical-align: middle;\n",
       "    }\n",
       "\n",
       "    .dataframe tbody tr th {\n",
       "        vertical-align: top;\n",
       "    }\n",
       "\n",
       "    .dataframe thead th {\n",
       "        text-align: right;\n",
       "    }\n",
       "</style>\n",
       "<table border=\"1\" class=\"dataframe\">\n",
       "  <thead>\n",
       "    <tr style=\"text-align: right;\">\n",
       "      <th></th>\n",
       "      <th>chgMean</th>\n",
       "      <th>chgStd</th>\n",
       "      <th>chgCount</th>\n",
       "    </tr>\n",
       "    <tr>\n",
       "      <th>wd</th>\n",
       "      <th></th>\n",
       "      <th></th>\n",
       "      <th></th>\n",
       "    </tr>\n",
       "  </thead>\n",
       "  <tbody>\n",
       "    <tr>\n",
       "      <th>Sun</th>\n",
       "      <td>37.500000</td>\n",
       "      <td>23.334524</td>\n",
       "      <td>2</td>\n",
       "    </tr>\n",
       "    <tr>\n",
       "      <th>Mon</th>\n",
       "      <td>29.000000</td>\n",
       "      <td>19.798990</td>\n",
       "      <td>2</td>\n",
       "    </tr>\n",
       "    <tr>\n",
       "      <th>Tue</th>\n",
       "      <td>37.000000</td>\n",
       "      <td>8.544004</td>\n",
       "      <td>3</td>\n",
       "    </tr>\n",
       "    <tr>\n",
       "      <th>Wed</th>\n",
       "      <td>26.000000</td>\n",
       "      <td>8.544004</td>\n",
       "      <td>3</td>\n",
       "    </tr>\n",
       "    <tr>\n",
       "      <th>Thu</th>\n",
       "      <td>9.000000</td>\n",
       "      <td>8.185353</td>\n",
       "      <td>3</td>\n",
       "    </tr>\n",
       "    <tr>\n",
       "      <th>Fri</th>\n",
       "      <td>45.333333</td>\n",
       "      <td>22.810816</td>\n",
       "      <td>3</td>\n",
       "    </tr>\n",
       "    <tr>\n",
       "      <th>Sat</th>\n",
       "      <td>62.500000</td>\n",
       "      <td>13.435029</td>\n",
       "      <td>2</td>\n",
       "    </tr>\n",
       "  </tbody>\n",
       "</table>\n",
       "</div>"
      ],
      "text/plain": [
       "       chgMean     chgStd  chgCount\n",
       "wd                                 \n",
       "Sun  37.500000  23.334524         2\n",
       "Mon  29.000000  19.798990         2\n",
       "Tue  37.000000   8.544004         3\n",
       "Wed  26.000000   8.544004         3\n",
       "Thu   9.000000   8.185353         3\n",
       "Fri  45.333333  22.810816         3\n",
       "Sat  62.500000  13.435029         2"
      ]
     },
     "execution_count": 20,
     "metadata": {},
     "output_type": "execute_result"
    }
   ],
   "source": [
    "wd_temp = date_stats.copy()\n",
    "wd_temp['i'] = wd_temp['date'].map(lambda x: '{:%w}'.format(x))\n",
    "wd_group = wd_temp.groupby('wd')\n",
    "wd_stats = wd_group.agg({'chg': ['mean', 'std', 'count'],\n",
    "                         'i': ['max']})\n",
    "wd_stats.columns = [x[0] + x[1].title()\n",
    "                    for x in wd_stats.columns]\n",
    "wd_stats = wd_stats.rename(columns={'iMax': 'dayIdx'})\n",
    "wd_stats = wd_stats.sort_values('dayIdx')\n",
    "wd_stats = wd_stats.drop('dayIdx', axis=1)\n",
    "wd_stats"
   ]
  }
 ],
 "metadata": {
  "kernelspec": {
   "display_name": "Python 3",
   "language": "python",
   "name": "python3"
  },
  "language_info": {
   "codemirror_mode": {
    "name": "ipython",
    "version": 3
   },
   "file_extension": ".py",
   "mimetype": "text/x-python",
   "name": "python",
   "nbconvert_exporter": "python",
   "pygments_lexer": "ipython3",
   "version": "3.7.6"
  }
 },
 "nbformat": 4,
 "nbformat_minor": 2
}
